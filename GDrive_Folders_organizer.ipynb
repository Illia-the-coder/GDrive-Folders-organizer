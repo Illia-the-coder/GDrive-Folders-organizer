{
  "nbformat": 4,
  "nbformat_minor": 0,
  "metadata": {
    "colab": {
      "provenance": []
    },
    "kernelspec": {
      "name": "python3",
      "display_name": "Python 3"
    },
    "language_info": {
      "name": "python"
    }
  },
  "cells": [
    {
      "cell_type": "markdown",
      "source": [
        "# Organize files by category based on file extensions\n",
        "\n",
        "\n",
        "## Step 1: Mount Google Drive folder to Google Colab\n",
        "\n",
        "Before we can begin organizing our files, we need to mount our Google Drive folder to Google Colab. We can do this using the following code:\n"
      ],
      "metadata": {
        "id": "AMC2BvQiPJzo"
      }
    },
    {
      "cell_type": "code",
      "execution_count": null,
      "metadata": {
        "id": "24DVWr9NDhIS",
        "colab": {
          "base_uri": "https://localhost:8080/"
        },
        "outputId": "5a5cb8b2-0397-4009-b628-3c140787a188"
      },
      "outputs": [
        {
          "output_type": "stream",
          "name": "stdout",
          "text": [
            "Drive already mounted at /content/drive; to attempt to forcibly remount, call drive.mount(\"/content/drive\", force_remount=True).\n"
          ]
        }
      ],
      "source": [
        "from google.colab import drive\n",
        "drive.mount('/content/drive')"
      ]
    },
    {
      "cell_type": "markdown",
      "source": [
        "\n",
        "## Step 2: Install the `tqdm` library\n",
        "\n",
        "We will be using the `tqdm` library to display a progress bar while we iterate through our files. To install this library, we can use the following code:\n"
      ],
      "metadata": {
        "id": "xgygw-N3PaX4"
      }
    },
    {
      "cell_type": "code",
      "source": [
        "!pip install tqdm "
      ],
      "metadata": {
        "colab": {
          "base_uri": "https://localhost:8080/"
        },
        "id": "4FSxoROZZSOp",
        "outputId": "abc68996-a4da-493f-e45f-f4fed6c0a6cc"
      },
      "execution_count": null,
      "outputs": [
        {
          "output_type": "stream",
          "name": "stdout",
          "text": [
            "Looking in indexes: https://pypi.org/simple, https://us-python.pkg.dev/colab-wheels/public/simple/\n",
            "Requirement already satisfied: tqdm in /usr/local/lib/python3.9/dist-packages (4.65.0)\n"
          ]
        }
      ]
    },
    {
      "cell_type": "code",
      "source": [
        "import os\n",
        "import shutil\n",
        "from tqdm import tqdm"
      ],
      "metadata": {
        "id": "cchvPEWH06-6"
      },
      "execution_count": null,
      "outputs": []
    },
    {
      "cell_type": "markdown",
      "source": [
        "\n",
        "\n",
        "## Step 3: Print the unique file extensions\n",
        "\n",
        "Now that we have defined our function, we can use it to print the unique file extensions found in our Google Drive folder as follows:\n"
      ],
      "metadata": {
        "id": "IyPqU2oPP0ns"
      }
    },
    {
      "cell_type": "code",
      "source": [
        "def get_unique_file_extensions(src_folder):\n",
        "    unique_file_extensions = set()\n",
        "    \n",
        "    for root, _, files in os.walk(src_folder):\n",
        "        for filename in files:\n",
        "            file_ext = os.path.splitext(filename)[1]\n",
        "            unique_file_extensions.add(file_ext)\n",
        "            \n",
        "    return unique_file_extensions\n",
        "\n",
        "if __name__ == \"__main__\":\n",
        "    source_folder = \"/content/drive/MyDrive\"\n",
        "    unique_extensions = get_unique_file_extensions(source_folder)\n",
        "    print(unique_extensions)\n"
      ],
      "metadata": {
        "colab": {
          "base_uri": "https://localhost:8080/"
        },
        "id": "izoeBq9bfOUv",
        "outputId": "d429547a-0168-45d2-f3b3-12924f5f72fa"
      },
      "execution_count": null,
      "outputs": [
        {
          "output_type": "stream",
          "name": "stdout",
          "text": [
            "{'', '.glb', '.ipynb', '.xrm-ms', '.msi', '.pde', '.pptx', '.html', '.xlsx', '.gdoc', '.py', '.dat', '.LOG', '.csv', '.msu', '.gif', '.mp4', '.cat', '.jpeg', '.c', '.opax', '.h', '.pptm', '.htm', '.cab', '.js', '.opal', '.log', '.gsite', '.txt', '.xml', '.url', '.jpg', '.sb', '.css', '.zip', '.png', '.lnk', '.gdraw', '.yml', '.sb3', '.json', '.CHK', '.ino', '.gsheet', '.gz', '.LNK', '.emmx', '.gform', '.ipynb\"', '.cpp', '.mst', '.md', '.gjam', '.chm', '.xcf', '.sig', '.jar', '.obj', '.epub', '.gslides', '.pdf', '.docx', '.pyc', '.svg', '.jfif', '.properties', '.ps', '.exe', '.inf', '.gscript', '.sh', '.sb2', '.TTF', '.mp3', '.dll', '.key'}\n"
          ]
        }
      ]
    },
    {
      "cell_type": "markdown",
      "source": [
        "## Step 4: Define a dictionary mapping file extensions to categories"
      ],
      "metadata": {
        "id": "v-lpwMAdPvtr"
      }
    },
    {
      "cell_type": "code",
      "source": [
        "file_categories = {\n",
        "    'Office/Documents': ['.txt', '.pdf', '.doc', '.docx', '.rtf', '.gdoc', '.odt'],\n",
        "    'Office/Presentations': ['.ppt', '.pptx', '.gslides', '.odp', '.key'],\n",
        "    'Office/Spreadsheets': ['.xls', '.xlsx', '.gsheet', '.ods', '.numbers', '.csv'],\n",
        "    'Coding&Data/Code': ['.xml', '.json', '.php', '.sh', '.cpp', '.js', '.pde', '.java', '.cs', '.c', '.h', '.go', '.rb', '.pl', '.swift', '.ts'],\n",
        "    'Coding&Data/Python': ['.py', '.pyc'],\n",
        "    'Coding&Data/HTML&CSS': ['.html', '.css', '.scss', '.sass', '.less'],\n",
        "    'Coding&Data/Jupyter_Notebooks': ['.ipynb'],\n",
        "    'Coding&Data/Database_Files': ['.db', '.sql', '.sqlite', '.accdb'],\n",
        "    'Multimedia/Videos': ['.mp4', '.mkv', '.flv', '.avi', '.mov', '.wmv'],\n",
        "    'Multimedia/Images': ['.svg', '.png', '.jpg', '.jpeg', '.gif', '.bmp', '.ico', '.tiff', '.webp'],\n",
        "    'Multimedia/Audio': ['.mp3', '.wav', '.ogg', '.flac', '.m4a', '.aac'],\n",
        "    'Multimedia/Fonts': ['.ttf', '.otf', '.woff', '.woff2', '.eot'],\n",
        "    'Multimedia/3D_Models': ['.obj', '.fbx', '.dae', '.3ds', '.blend'],\n",
        "    'Multimedia/Vector_Graphics': ['.ai', '.eps', '.sketch'],\n",
        "    'Multimedia/CAD_Files': ['.dwg', '.dxf'],\n",
        "    'Google_Workspace/Drawings': ['.gdraw'],\n",
        "    'Google_Workspace/Sites': ['.gsite'],\n",
        "    'Google_Workspace/Forms': ['.gform'],\n",
        "    'Google_Workspace/Jamboard': ['.gjam'],\n",
        "    'Google_Workspace/Scripts': ['.gscript'],\n",
        "    'Others/Shortcuts': ['.lnk'],\n",
        "    'Others/Markdown': ['.md', '.markdown'],\n",
        "    'Others/PGP_Keys': ['.asc'],\n",
        "    'Others/Python_Code': ['.pyc', '.pyo'],\n",
        "    'Others/Archives': ['.zip', '.tar', '.rar', '.7z', '.gz', '.bz2'],\n",
        "    'Others/eBooks': ['.epub', '.mobi', '.azw', '.azw3'],\n",
        "    'Others': [''],\n",
        "}\n"
      ],
      "metadata": {
        "id": "FcVviSGlxXM-"
      },
      "execution_count": null,
      "outputs": []
    },
    {
      "cell_type": "markdown",
      "source": [
        "\n",
        "\n",
        "\n",
        "\n",
        "## Step 5: Define a function to get unique file extensions\n",
        "\n",
        "To determine which categories we need to create, we first need to determine which file extensions are present in our Google Drive folder. We can define a function `get_unique_file_extensions` to do this as follows:"
      ],
      "metadata": {
        "id": "ER1e043OP3j8"
      }
    },
    {
      "cell_type": "code",
      "source": [
        "def categorize_files(src_folder, file_categories=file_categories, go_through=True):\n",
        "\n",
        "    def move_file_to_category(file_path, filename, file_ext):\n",
        "        for category, extensions in file_categories.items():\n",
        "            if file_ext in extensions:\n",
        "                dest_folder = os.path.join(src_folder, category)\n",
        "                break\n",
        "        else:\n",
        "            dest_folder = os.path.join(src_folder, 'Others')\n",
        "\n",
        "        os.makedirs(dest_folder, exist_ok=True)\n",
        "        shutil.move(file_path, os.path.join(dest_folder, filename))\n",
        "\n",
        "    def process_files(root, files):\n",
        "        for filename in tqdm(files, desc=f\"Processing files in {root}\", unit=\"file\"):\n",
        "            file_path = os.path.join(root, filename)\n",
        "\n",
        "            if os.path.isdir(file_path):\n",
        "                continue\n",
        "\n",
        "            file_ext = os.path.splitext(file_path)[1]\n",
        "            move_file_to_category(file_path, filename, file_ext)\n",
        "        if go_through:\n",
        "          try:\n",
        "              os.rmdir(root)\n",
        "              print(f\"Successful deleting folder: {root}\")\n",
        "          except OSError:\n",
        "              pass\n",
        "\n",
        "    if go_through:\n",
        "        folder_iterator = os.walk(src_folder)\n",
        "    else:\n",
        "        folder_iterator = [(src_folder, [], os.listdir(src_folder))]\n",
        "    \n",
        "    [process_files(root, files) for root, _, files in folder_iterator]"
      ],
      "metadata": {
        "id": "XRaA-ufgOfqE"
      },
      "execution_count": null,
      "outputs": []
    },
    {
      "cell_type": "markdown",
      "source": [
        "##  Step 6: Using function 'categorize_files' for sorting files in google drive\n",
        "\n",
        "\n",
        "\n"
      ],
      "metadata": {
        "id": "7CAvheW71e6n"
      }
    },
    {
      "cell_type": "code",
      "source": [
        "source_folder = \"/content/drive/MyDrive\"\n",
        "categorize_files(source_folder)"
      ],
      "metadata": {
        "colab": {
          "base_uri": "https://localhost:8080/"
        },
        "id": "FW_A-lQ-1Oz2",
        "outputId": "277438ee-1727-4811-828f-2acac7e8e2fa"
      },
      "execution_count": null,
      "outputs": [
        {
          "output_type": "stream",
          "name": "stderr",
          "text": [
            "Processing files in /content/drive/MyDrive: 0file [00:00, ?file/s]\n",
            "Processing files in /content/drive/MyDrive/Others: 100%|██████████| 103/103 [00:00<00:00, 1621.49file/s]\n",
            "Processing files in /content/drive/MyDrive/Others/Archives: 100%|██████████| 2/2 [00:00<00:00, 508.25file/s]\n",
            "Processing files in /content/drive/MyDrive/Others/Markdown: 100%|██████████| 38/38 [00:00<00:00, 1146.84file/s]\n",
            "Processing files in /content/drive/MyDrive/Others/Shortcuts: 100%|██████████| 4/4 [00:00<00:00, 591.83file/s]\n",
            "Processing files in /content/drive/MyDrive/Others/eBooks: 100%|██████████| 1/1 [00:00<00:00, 286.12file/s]\n",
            "Processing files in /content/drive/MyDrive/Multimedia: 0file [00:00, ?file/s]\n",
            "Processing files in /content/drive/MyDrive/Multimedia/Images: 100%|██████████| 418/418 [00:00<00:00, 1166.53file/s]\n",
            "Processing files in /content/drive/MyDrive/Multimedia/3D_Models: 100%|██████████| 1/1 [00:00<00:00, 769.88file/s]\n",
            "Processing files in /content/drive/MyDrive/Multimedia/Audio: 100%|██████████| 2/2 [00:00<00:00, 399.91file/s]\n",
            "Processing files in /content/drive/MyDrive/Multimedia/Videos: 100%|██████████| 1/1 [00:00<00:00, 321.18file/s]\n",
            "Processing files in /content/drive/MyDrive/Coding&Data: 0file [00:00, ?file/s]\n",
            "Processing files in /content/drive/MyDrive/Coding&Data/Code: 100%|██████████| 88/88 [00:00<00:00, 1019.96file/s]\n",
            "Processing files in /content/drive/MyDrive/Coding&Data/Python: 100%|██████████| 68/68 [00:00<00:00, 1167.99file/s]\n",
            "Processing files in /content/drive/MyDrive/Coding&Data/HTML&CSS: 100%|██████████| 386/386 [00:00<00:00, 1071.08file/s]\n",
            "Processing files in /content/drive/MyDrive/Coding&Data/Jupyter_Notebooks: 100%|██████████| 22/22 [00:00<00:00, 986.04file/s]\n",
            "Processing files in /content/drive/MyDrive/Office: 0file [00:00, ?file/s]\n",
            "Processing files in /content/drive/MyDrive/Office/Spreadsheets: 100%|██████████| 51/51 [00:00<00:00, 1012.18file/s]\n",
            "Processing files in /content/drive/MyDrive/Office/Presentations: 100%|██████████| 108/108 [00:00<00:00, 992.65file/s] \n",
            "Processing files in /content/drive/MyDrive/Office/Documents: 100%|██████████| 81/81 [00:00<00:00, 1158.51file/s]\n",
            "Processing files in /content/drive/MyDrive/Google_Workspace: 0file [00:00, ?file/s]\n",
            "Processing files in /content/drive/MyDrive/Google_Workspace/Scripts: 100%|██████████| 2/2 [00:00<00:00, 536.32file/s]\n",
            "Processing files in /content/drive/MyDrive/Google_Workspace/Jamboard: 100%|██████████| 3/3 [00:00<00:00, 598.19file/s]\n",
            "Processing files in /content/drive/MyDrive/Google_Workspace/Sites: 100%|██████████| 2/2 [00:00<00:00, 734.04file/s]\n",
            "Processing files in /content/drive/MyDrive/Google_Workspace/Drawings: 100%|██████████| 2/2 [00:00<00:00, 407.25file/s]\n",
            "Processing files in /content/drive/MyDrive/Google_Workspace/Forms: 100%|██████████| 1/1 [00:00<00:00, 761.63file/s]\n",
            "Processing files in /content/drive/MyDrive/gf: 0file [00:00, ?file/s]\n"
          ]
        },
        {
          "output_type": "stream",
          "name": "stdout",
          "text": [
            "Successful deleting folder: /content/drive/MyDrive/gf\n"
          ]
        },
        {
          "output_type": "stream",
          "name": "stderr",
          "text": [
            "Processing files in /content/drive/MyDrive/.ipynb_checkpoints: 0file [00:00, ?file/s]\n"
          ]
        },
        {
          "output_type": "stream",
          "name": "stdout",
          "text": [
            "Successful deleting folder: /content/drive/MyDrive/.ipynb_checkpoints\n"
          ]
        }
      ]
    }
  ]
}